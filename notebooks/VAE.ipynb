{
 "cells": [
  {
   "cell_type": "markdown",
   "metadata": {},
   "source": [
    "# Setup"
   ]
  },
  {
   "cell_type": "markdown",
   "metadata": {},
   "source": [
    "## Install Python dependencies"
   ]
  },
  {
   "cell_type": "code",
   "execution_count": 1,
   "metadata": {
    "colab": {
     "base_uri": "https://localhost:8080/"
    },
    "id": "qsgCdEGz-9SY",
    "outputId": "7e3964c9-7d12-402e-b6f9-f4fc6ca93cc5"
   },
   "outputs": [
    {
     "name": "stdout",
     "output_type": "stream",
     "text": [
      "/etc/host.conf: line 4: bad command `nospoof on'\n",
      "Collecting numba\n",
      "  Downloading numba-0.55.1-1-cp39-cp39-manylinux2014_x86_64.manylinux_2_17_x86_64.whl (3.3 MB)\n",
      "\u001b[K     |████████████████████████████████| 3.3 MB 1.1 MB/s eta 0:00:01\n",
      "\u001b[?25hCollecting umap-learn\n",
      "  Downloading umap-learn-0.5.2.tar.gz (86 kB)\n",
      "\u001b[K     |████████████████████████████████| 86 kB 8.0 MB/s  eta 0:00:01\n",
      "\u001b[?25hCollecting leidenalg\n",
      "  Using cached leidenalg-0.8.9-cp39-cp39-manylinux2010_x86_64.whl (1.4 MB)\n",
      "Collecting scikit-learn-extra\n",
      "  Downloading scikit_learn_extra-0.2.0-cp39-cp39-manylinux2010_x86_64.whl (1.9 MB)\n",
      "\u001b[K     |████████████████████████████████| 1.9 MB 15.5 MB/s eta 0:00:01\n",
      "\u001b[?25hCollecting llvmlite<0.39,>=0.38.0rc1\n",
      "  Downloading llvmlite-0.38.0-cp39-cp39-manylinux_2_17_x86_64.manylinux2014_x86_64.whl (34.5 MB)\n",
      "\u001b[K     |████████████████████████████████| 34.5 MB 12.3 MB/s eta 0:00:01\n",
      "\u001b[?25hCollecting numpy<1.22,>=1.18\n",
      "  Downloading numpy-1.21.5-cp39-cp39-manylinux_2_12_x86_64.manylinux2010_x86_64.whl (15.7 MB)\n",
      "\u001b[K     |████████████████████████████████| 15.7 MB 900 kB/s  eta 0:00:01\n",
      "\u001b[?25hRequirement already satisfied: setuptools in /home/ssm-user/anaconda3/envs/aws/lib/python3.9/site-packages (from numba) (58.0.4)\n",
      "Collecting scikit-learn>=0.22\n",
      "  Downloading scikit_learn-1.0.2-cp39-cp39-manylinux_2_17_x86_64.manylinux2014_x86_64.whl (26.4 MB)\n",
      "\u001b[K     |████████████████████████████████| 26.4 MB 6.6 MB/s eta 0:00:011\n",
      "\u001b[?25hCollecting scipy>=1.0\n",
      "  Downloading scipy-1.8.0-cp39-cp39-manylinux_2_17_x86_64.manylinux2014_x86_64.whl (42.1 MB)\n",
      "\u001b[K     |████████████████████████████████| 42.1 MB 4.2 MB/s eta 0:00:01     |██████████████████████████      | 34.3 MB 3.0 MB/s eta 0:00:03\n",
      "\u001b[?25hCollecting pynndescent>=0.5\n",
      "  Downloading pynndescent-0.5.6.tar.gz (1.1 MB)\n",
      "\u001b[K     |████████████████████████████████| 1.1 MB 5.1 MB/s eta 0:00:01\n",
      "\u001b[?25hCollecting tqdm\n",
      "  Downloading tqdm-4.63.0-py2.py3-none-any.whl (76 kB)\n",
      "\u001b[K     |████████████████████████████████| 76 kB 3.1 MB/s eta 0:00:01\n",
      "\u001b[?25hCollecting igraph<0.10,>=0.9.0\n",
      "  Using cached igraph-0.9.9-cp39-cp39-manylinux_2_17_x86_64.manylinux2014_x86_64.whl (3.1 MB)\n",
      "Collecting texttable>=1.6.2\n",
      "  Using cached texttable-1.6.4-py2.py3-none-any.whl (10 kB)\n",
      "Collecting joblib>=0.11\n",
      "  Downloading joblib-1.1.0-py2.py3-none-any.whl (306 kB)\n",
      "\u001b[K     |████████████████████████████████| 306 kB 3.6 MB/s eta 0:00:01\n",
      "\u001b[?25hCollecting threadpoolctl>=2.0.0\n",
      "  Downloading threadpoolctl-3.1.0-py3-none-any.whl (14 kB)\n",
      "Building wheels for collected packages: umap-learn, pynndescent\n",
      "  Building wheel for umap-learn (setup.py) ... \u001b[?25ldone\n",
      "\u001b[?25h  Created wheel for umap-learn: filename=umap_learn-0.5.2-py3-none-any.whl size=82708 sha256=6e4da52b954008104ec3f8949cc8fe6ec3b6b0049ee4c47ca5089eefbc9fdf4c\n",
      "  Stored in directory: /home/ssm-user/.cache/pip/wheels/4a/66/81/205d77bd58539a1d07fb8b795fcea0b17f4d59912c0f4202b7\n",
      "  Building wheel for pynndescent (setup.py) ... \u001b[?25ldone\n",
      "\u001b[?25h  Created wheel for pynndescent: filename=pynndescent-0.5.6-py3-none-any.whl size=53943 sha256=71bfea6eac0b417540417dc8ef96b3e83f394a01865f910babd1799315f3ceec\n",
      "  Stored in directory: /home/ssm-user/.cache/pip/wheels/c0/f0/1d/20aa0dcee54ef40c179a4a4f57fad413437864a67757013a99\n",
      "Successfully built umap-learn pynndescent\n",
      "Installing collected packages: numpy, threadpoolctl, scipy, llvmlite, joblib, texttable, scikit-learn, numba, tqdm, pynndescent, igraph, umap-learn, scikit-learn-extra, leidenalg\n",
      "Successfully installed igraph-0.9.9 joblib-1.1.0 leidenalg-0.8.9 llvmlite-0.38.0 numba-0.55.1 numpy-1.21.5 pynndescent-0.5.6 scikit-learn-1.0.2 scikit-learn-extra-0.2.0 scipy-1.8.0 texttable-1.6.4 threadpoolctl-3.1.0 tqdm-4.63.0 umap-learn-0.5.2\n"
     ]
    }
   ],
   "source": [
    "!python3 -m pip install numba umap-learn leidenalg scikit-learn-extra"
   ]
  },
  {
   "cell_type": "markdown",
   "metadata": {},
   "source": [
    "## Imports"
   ]
  },
  {
   "cell_type": "code",
   "execution_count": 31,
   "metadata": {
    "id": "7rpJ0p2nTtCZ"
   },
   "outputs": [],
   "source": [
    "import os\n",
    "import re\n",
    "import umap\n",
    "import umap.plot\n",
    "\n",
    "import numpy as np\n",
    "import pandas as pd\n",
    "import matplotlib.pyplot as plt\n",
    "\n",
    "from sklearn.preprocessing import StandardScaler\n",
    "from sklearn.model_selection import train_test_split\n",
    "\n",
    "import torch\n",
    "import torch.utils.data as data_utils\n",
    "from torch import nn\n",
    "import torch.nn.functional as F"
   ]
  },
  {
   "cell_type": "markdown",
   "metadata": {},
   "source": [
    "## Check GPU status"
   ]
  },
  {
   "cell_type": "code",
   "execution_count": 32,
   "metadata": {},
   "outputs": [
    {
     "data": {
      "text/plain": [
       "True"
      ]
     },
     "execution_count": 32,
     "metadata": {},
     "output_type": "execute_result"
    }
   ],
   "source": [
    "torch.cuda.is_available()"
   ]
  },
  {
   "cell_type": "markdown",
   "metadata": {},
   "source": [
    "## Paths"
   ]
  },
  {
   "cell_type": "code",
   "execution_count": 33,
   "metadata": {},
   "outputs": [],
   "source": [
    "DATA_DIR = '/data/VariantAnalysis/'\n",
    "REPRESENTATIONS_DIR = os.path.join(DATA_DIR, 'esm1b_preprs')\n",
    "VAE_MODEL_DIR = os.path.join(DATA_DIR, 'vae_model')"
   ]
  },
  {
   "cell_type": "markdown",
   "metadata": {},
   "source": [
    "## Other params"
   ]
  },
  {
   "cell_type": "code",
   "execution_count": 68,
   "metadata": {},
   "outputs": [],
   "source": [
    "GENE_NAME = 'P53'\n",
    "\n",
    "ALL_AAS = list('ACDEFGHIKLMNPQRSTVWY')"
   ]
  },
  {
   "cell_type": "code",
   "execution_count": 69,
   "metadata": {},
   "outputs": [
    {
     "data": {
      "text/plain": [
       "20"
      ]
     },
     "execution_count": 69,
     "metadata": {},
     "output_type": "execute_result"
    }
   ],
   "source": [
    "len(ALL_AAS)"
   ]
  },
  {
   "cell_type": "markdown",
   "metadata": {},
   "source": [
    "# Parse input mutations"
   ]
  },
  {
   "cell_type": "code",
   "execution_count": 70,
   "metadata": {},
   "outputs": [
    {
     "data": {
      "text/plain": [
       "'/data/VariantAnalysis/esm1b_preprs/P53/P53_logits.csv'"
      ]
     },
     "execution_count": 70,
     "metadata": {},
     "output_type": "execute_result"
    }
   ],
   "source": [
    "os.path.join(REPRESENTATIONS_DIR, GENE_NAME, '%s_logits.csv' % GENE_NAME)"
   ]
  },
  {
   "cell_type": "code",
   "execution_count": 71,
   "metadata": {},
   "outputs": [],
   "source": [
    "wt_logits = pd.read_csv(os.path.join(REPRESENTATIONS_DIR, GENE_NAME, '%s_logits.csv' % GENE_NAME), index_col = 0)\\\n",
    "        .rename(columns = lambda col_name : col_name.split('.')[0])\n",
    "wt_ref_logits = np.array([pos_wt_logits[pos_ref_aa] for pos_ref_aa, pos_wt_logits in wt_logits.iteritems()])\n",
    "LLR = (wt_logits - wt_ref_logits.reshape(1, -1)).loc[ALL_AAS]\n",
    "\n",
    "mutation_names = np.load(os.path.join(REPRESENTATIONS_DIR, GENE_NAME, 'mutation_names.npy'))\n",
    "mutation_esm1b_reprs = np.load(os.path.join(REPRESENTATIONS_DIR, GENE_NAME, 'mutation_reprs.npy'))\n",
    "\n",
    "mutations = pd.DataFrame(index = mutation_names)"
   ]
  },
  {
   "cell_type": "code",
   "execution_count": 72,
   "metadata": {},
   "outputs": [
    {
     "data": {
      "text/plain": [
       "(11060, 1280)"
      ]
     },
     "execution_count": 72,
     "metadata": {},
     "output_type": "execute_result"
    }
   ],
   "source": [
    "mutation_esm1b_reprs.shape"
   ]
  },
  {
   "cell_type": "code",
   "execution_count": 73,
   "metadata": {},
   "outputs": [
    {
     "data": {
      "text/plain": [
       "(20, 393)"
      ]
     },
     "execution_count": 73,
     "metadata": {},
     "output_type": "execute_result"
    }
   ],
   "source": [
    "LLR.shape"
   ]
  },
  {
   "cell_type": "code",
   "execution_count": 74,
   "metadata": {},
   "outputs": [
    {
     "data": {
      "text/plain": [
       "(11060, 0)"
      ]
     },
     "execution_count": 74,
     "metadata": {},
     "output_type": "execute_result"
    }
   ],
   "source": [
    "mutations.shape"
   ]
  },
  {
   "cell_type": "code",
   "execution_count": 75,
   "metadata": {},
   "outputs": [],
   "source": [
    "mutations['ref_index'] = [x for x in range(mutations.shape[0])]"
   ]
  },
  {
   "cell_type": "code",
   "execution_count": 76,
   "metadata": {},
   "outputs": [],
   "source": [
    "mutations = mutations.loc[[gene for gene in mutations.index.tolist() if gene.split(':')[0] == GENE_NAME]]"
   ]
  },
  {
   "cell_type": "code",
   "execution_count": 77,
   "metadata": {},
   "outputs": [],
   "source": [
    "mutations['name'] = [mutation_name for gene_name, mutation_name in mutations.index.str.split(':')]\n",
    "mutations['pos'] = mutations['name'].apply(lambda mutation_name: np.nan if mutation_name == 'WT' else \\\n",
    "        int(mutation_name[1:-1]))"
   ]
  },
  {
   "cell_type": "code",
   "execution_count": 78,
   "metadata": {},
   "outputs": [
    {
     "data": {
      "text/html": [
       "<div>\n",
       "<style scoped>\n",
       "    .dataframe tbody tr th:only-of-type {\n",
       "        vertical-align: middle;\n",
       "    }\n",
       "\n",
       "    .dataframe tbody tr th {\n",
       "        vertical-align: top;\n",
       "    }\n",
       "\n",
       "    .dataframe thead th {\n",
       "        text-align: right;\n",
       "    }\n",
       "</style>\n",
       "<table border=\"1\" class=\"dataframe\">\n",
       "  <thead>\n",
       "    <tr style=\"text-align: right;\">\n",
       "      <th></th>\n",
       "      <th>ref_index</th>\n",
       "      <th>name</th>\n",
       "      <th>pos</th>\n",
       "    </tr>\n",
       "  </thead>\n",
       "  <tbody>\n",
       "    <tr>\n",
       "      <th>P53:WT</th>\n",
       "      <td>0</td>\n",
       "      <td>WT</td>\n",
       "      <td>NaN</td>\n",
       "    </tr>\n",
       "    <tr>\n",
       "      <th>P53:M1V</th>\n",
       "      <td>1</td>\n",
       "      <td>M1V</td>\n",
       "      <td>1.0</td>\n",
       "    </tr>\n",
       "    <tr>\n",
       "      <th>P53:M1Y</th>\n",
       "      <td>2</td>\n",
       "      <td>M1Y</td>\n",
       "      <td>1.0</td>\n",
       "    </tr>\n",
       "    <tr>\n",
       "      <th>P53:M1P</th>\n",
       "      <td>3</td>\n",
       "      <td>M1P</td>\n",
       "      <td>1.0</td>\n",
       "    </tr>\n",
       "    <tr>\n",
       "      <th>P53:M1D</th>\n",
       "      <td>4</td>\n",
       "      <td>M1D</td>\n",
       "      <td>1.0</td>\n",
       "    </tr>\n",
       "  </tbody>\n",
       "</table>\n",
       "</div>"
      ],
      "text/plain": [
       "         ref_index name  pos\n",
       "P53:WT           0   WT  NaN\n",
       "P53:M1V          1  M1V  1.0\n",
       "P53:M1Y          2  M1Y  1.0\n",
       "P53:M1P          3  M1P  1.0\n",
       "P53:M1D          4  M1D  1.0"
      ]
     },
     "execution_count": 78,
     "metadata": {},
     "output_type": "execute_result"
    }
   ],
   "source": [
    "mutations.head()"
   ]
  },
  {
   "cell_type": "code",
   "execution_count": 79,
   "metadata": {},
   "outputs": [],
   "source": [
    "mutations['alt_aa'] = mutations['name'].apply(lambda mutation_name: np.nan \\\n",
    "                                              if mutation_name == 'WT' else \\\n",
    "                                              mutation_name[-1])"
   ]
  },
  {
   "cell_type": "code",
   "execution_count": 80,
   "metadata": {},
   "outputs": [
    {
     "data": {
      "text/html": [
       "<div>\n",
       "<style scoped>\n",
       "    .dataframe tbody tr th:only-of-type {\n",
       "        vertical-align: middle;\n",
       "    }\n",
       "\n",
       "    .dataframe tbody tr th {\n",
       "        vertical-align: top;\n",
       "    }\n",
       "\n",
       "    .dataframe thead th {\n",
       "        text-align: right;\n",
       "    }\n",
       "</style>\n",
       "<table border=\"1\" class=\"dataframe\">\n",
       "  <thead>\n",
       "    <tr style=\"text-align: right;\">\n",
       "      <th></th>\n",
       "      <th>ref_index</th>\n",
       "      <th>name</th>\n",
       "      <th>pos</th>\n",
       "      <th>alt_aa</th>\n",
       "    </tr>\n",
       "  </thead>\n",
       "  <tbody>\n",
       "    <tr>\n",
       "      <th>P53:WT</th>\n",
       "      <td>0</td>\n",
       "      <td>WT</td>\n",
       "      <td>NaN</td>\n",
       "      <td>NaN</td>\n",
       "    </tr>\n",
       "    <tr>\n",
       "      <th>P53:M1V</th>\n",
       "      <td>1</td>\n",
       "      <td>M1V</td>\n",
       "      <td>1.0</td>\n",
       "      <td>V</td>\n",
       "    </tr>\n",
       "    <tr>\n",
       "      <th>P53:M1Y</th>\n",
       "      <td>2</td>\n",
       "      <td>M1Y</td>\n",
       "      <td>1.0</td>\n",
       "      <td>Y</td>\n",
       "    </tr>\n",
       "    <tr>\n",
       "      <th>P53:M1P</th>\n",
       "      <td>3</td>\n",
       "      <td>M1P</td>\n",
       "      <td>1.0</td>\n",
       "      <td>P</td>\n",
       "    </tr>\n",
       "    <tr>\n",
       "      <th>P53:M1D</th>\n",
       "      <td>4</td>\n",
       "      <td>M1D</td>\n",
       "      <td>1.0</td>\n",
       "      <td>D</td>\n",
       "    </tr>\n",
       "  </tbody>\n",
       "</table>\n",
       "</div>"
      ],
      "text/plain": [
       "         ref_index name  pos alt_aa\n",
       "P53:WT           0   WT  NaN    NaN\n",
       "P53:M1V          1  M1V  1.0      V\n",
       "P53:M1Y          2  M1Y  1.0      Y\n",
       "P53:M1P          3  M1P  1.0      P\n",
       "P53:M1D          4  M1D  1.0      D"
      ]
     },
     "execution_count": 80,
     "metadata": {},
     "output_type": "execute_result"
    }
   ],
   "source": [
    "mutations.head()"
   ]
  },
  {
   "cell_type": "code",
   "execution_count": 81,
   "metadata": {},
   "outputs": [],
   "source": [
    "mutations['zeroshot_raw'] = mutations.apply(lambda mutation: 0 if mutation['name'] == 'WT' else \\\n",
    "        LLR.loc[mutation['alt_aa']].iloc[int(mutation['pos']) - 1], axis = 1)"
   ]
  },
  {
   "cell_type": "code",
   "execution_count": 82,
   "metadata": {},
   "outputs": [
    {
     "data": {
      "text/html": [
       "<div>\n",
       "<style scoped>\n",
       "    .dataframe tbody tr th:only-of-type {\n",
       "        vertical-align: middle;\n",
       "    }\n",
       "\n",
       "    .dataframe tbody tr th {\n",
       "        vertical-align: top;\n",
       "    }\n",
       "\n",
       "    .dataframe thead th {\n",
       "        text-align: right;\n",
       "    }\n",
       "</style>\n",
       "<table border=\"1\" class=\"dataframe\">\n",
       "  <thead>\n",
       "    <tr style=\"text-align: right;\">\n",
       "      <th></th>\n",
       "      <th>ref_index</th>\n",
       "      <th>name</th>\n",
       "      <th>pos</th>\n",
       "      <th>alt_aa</th>\n",
       "      <th>zeroshot_raw</th>\n",
       "    </tr>\n",
       "  </thead>\n",
       "  <tbody>\n",
       "    <tr>\n",
       "      <th>P53:WT</th>\n",
       "      <td>0</td>\n",
       "      <td>WT</td>\n",
       "      <td>NaN</td>\n",
       "      <td>NaN</td>\n",
       "      <td>0.000000</td>\n",
       "    </tr>\n",
       "    <tr>\n",
       "      <th>P53:M1V</th>\n",
       "      <td>1</td>\n",
       "      <td>M1V</td>\n",
       "      <td>1.0</td>\n",
       "      <td>V</td>\n",
       "      <td>-6.698508</td>\n",
       "    </tr>\n",
       "    <tr>\n",
       "      <th>P53:M1Y</th>\n",
       "      <td>2</td>\n",
       "      <td>M1Y</td>\n",
       "      <td>1.0</td>\n",
       "      <td>Y</td>\n",
       "      <td>-8.338982</td>\n",
       "    </tr>\n",
       "    <tr>\n",
       "      <th>P53:M1P</th>\n",
       "      <td>3</td>\n",
       "      <td>M1P</td>\n",
       "      <td>1.0</td>\n",
       "      <td>P</td>\n",
       "      <td>-5.708129</td>\n",
       "    </tr>\n",
       "    <tr>\n",
       "      <th>P53:M1D</th>\n",
       "      <td>4</td>\n",
       "      <td>M1D</td>\n",
       "      <td>1.0</td>\n",
       "      <td>D</td>\n",
       "      <td>-7.114252</td>\n",
       "    </tr>\n",
       "  </tbody>\n",
       "</table>\n",
       "</div>"
      ],
      "text/plain": [
       "         ref_index name  pos alt_aa  zeroshot_raw\n",
       "P53:WT           0   WT  NaN    NaN      0.000000\n",
       "P53:M1V          1  M1V  1.0      V     -6.698508\n",
       "P53:M1Y          2  M1Y  1.0      Y     -8.338982\n",
       "P53:M1P          3  M1P  1.0      P     -5.708129\n",
       "P53:M1D          4  M1D  1.0      D     -7.114252"
      ]
     },
     "execution_count": 82,
     "metadata": {},
     "output_type": "execute_result"
    }
   ],
   "source": [
    "mutations.head()"
   ]
  },
  {
   "cell_type": "code",
   "execution_count": 83,
   "metadata": {},
   "outputs": [
    {
     "data": {
      "text/html": [
       "<div>\n",
       "<style scoped>\n",
       "    .dataframe tbody tr th:only-of-type {\n",
       "        vertical-align: middle;\n",
       "    }\n",
       "\n",
       "    .dataframe tbody tr th {\n",
       "        vertical-align: top;\n",
       "    }\n",
       "\n",
       "    .dataframe thead th {\n",
       "        text-align: right;\n",
       "    }\n",
       "</style>\n",
       "<table border=\"1\" class=\"dataframe\">\n",
       "  <thead>\n",
       "    <tr style=\"text-align: right;\">\n",
       "      <th></th>\n",
       "      <th>ref_index</th>\n",
       "      <th>name</th>\n",
       "      <th>pos</th>\n",
       "      <th>alt_aa</th>\n",
       "      <th>zeroshot_raw</th>\n",
       "      <th>zeroshot</th>\n",
       "    </tr>\n",
       "  </thead>\n",
       "  <tbody>\n",
       "    <tr>\n",
       "      <th>P53:WT</th>\n",
       "      <td>0</td>\n",
       "      <td>WT</td>\n",
       "      <td>NaN</td>\n",
       "      <td>NaN</td>\n",
       "      <td>0.000000</td>\n",
       "      <td>1.000000</td>\n",
       "    </tr>\n",
       "    <tr>\n",
       "      <th>P53:M1V</th>\n",
       "      <td>1</td>\n",
       "      <td>M1V</td>\n",
       "      <td>1.0</td>\n",
       "      <td>V</td>\n",
       "      <td>-6.698508</td>\n",
       "      <td>0.684250</td>\n",
       "    </tr>\n",
       "    <tr>\n",
       "      <th>P53:M1Y</th>\n",
       "      <td>2</td>\n",
       "      <td>M1Y</td>\n",
       "      <td>1.0</td>\n",
       "      <td>Y</td>\n",
       "      <td>-8.338982</td>\n",
       "      <td>0.606923</td>\n",
       "    </tr>\n",
       "    <tr>\n",
       "      <th>P53:M1P</th>\n",
       "      <td>3</td>\n",
       "      <td>M1P</td>\n",
       "      <td>1.0</td>\n",
       "      <td>P</td>\n",
       "      <td>-5.708129</td>\n",
       "      <td>0.730934</td>\n",
       "    </tr>\n",
       "    <tr>\n",
       "      <th>P53:M1D</th>\n",
       "      <td>4</td>\n",
       "      <td>M1D</td>\n",
       "      <td>1.0</td>\n",
       "      <td>D</td>\n",
       "      <td>-7.114252</td>\n",
       "      <td>0.664653</td>\n",
       "    </tr>\n",
       "    <tr>\n",
       "      <th>...</th>\n",
       "      <td>...</td>\n",
       "      <td>...</td>\n",
       "      <td>...</td>\n",
       "      <td>...</td>\n",
       "      <td>...</td>\n",
       "      <td>...</td>\n",
       "    </tr>\n",
       "    <tr>\n",
       "      <th>P53:D393Q</th>\n",
       "      <td>7463</td>\n",
       "      <td>D393Q</td>\n",
       "      <td>393.0</td>\n",
       "      <td>Q</td>\n",
       "      <td>-5.540351</td>\n",
       "      <td>0.738843</td>\n",
       "    </tr>\n",
       "    <tr>\n",
       "      <th>P53:D393F</th>\n",
       "      <td>7464</td>\n",
       "      <td>D393F</td>\n",
       "      <td>393.0</td>\n",
       "      <td>F</td>\n",
       "      <td>-6.265056</td>\n",
       "      <td>0.704682</td>\n",
       "    </tr>\n",
       "    <tr>\n",
       "      <th>P53:D393I</th>\n",
       "      <td>7465</td>\n",
       "      <td>D393I</td>\n",
       "      <td>393.0</td>\n",
       "      <td>I</td>\n",
       "      <td>-7.186170</td>\n",
       "      <td>0.661263</td>\n",
       "    </tr>\n",
       "    <tr>\n",
       "      <th>P53:D393C</th>\n",
       "      <td>7466</td>\n",
       "      <td>D393C</td>\n",
       "      <td>393.0</td>\n",
       "      <td>C</td>\n",
       "      <td>-5.644102</td>\n",
       "      <td>0.733952</td>\n",
       "    </tr>\n",
       "    <tr>\n",
       "      <th>P53:D393W</th>\n",
       "      <td>7467</td>\n",
       "      <td>D393W</td>\n",
       "      <td>393.0</td>\n",
       "      <td>W</td>\n",
       "      <td>-6.705259</td>\n",
       "      <td>0.683932</td>\n",
       "    </tr>\n",
       "  </tbody>\n",
       "</table>\n",
       "<p>7468 rows × 6 columns</p>\n",
       "</div>"
      ],
      "text/plain": [
       "           ref_index   name    pos alt_aa  zeroshot_raw  zeroshot\n",
       "P53:WT             0     WT    NaN    NaN      0.000000  1.000000\n",
       "P53:M1V            1    M1V    1.0      V     -6.698508  0.684250\n",
       "P53:M1Y            2    M1Y    1.0      Y     -8.338982  0.606923\n",
       "P53:M1P            3    M1P    1.0      P     -5.708129  0.730934\n",
       "P53:M1D            4    M1D    1.0      D     -7.114252  0.664653\n",
       "...              ...    ...    ...    ...           ...       ...\n",
       "P53:D393Q       7463  D393Q  393.0      Q     -5.540351  0.738843\n",
       "P53:D393F       7464  D393F  393.0      F     -6.265056  0.704682\n",
       "P53:D393I       7465  D393I  393.0      I     -7.186170  0.661263\n",
       "P53:D393C       7466  D393C  393.0      C     -5.644102  0.733952\n",
       "P53:D393W       7467  D393W  393.0      W     -6.705259  0.683932\n",
       "\n",
       "[7468 rows x 6 columns]"
      ]
     },
     "metadata": {},
     "output_type": "display_data"
    }
   ],
   "source": [
    "zeroshot = np.clip(mutations['zeroshot_raw'], None, 0)\n",
    "zeroshot -= zeroshot.min()\n",
    "zeroshot /= zeroshot.max()\n",
    "mutations['zeroshot'] = zeroshot\n",
    "\n",
    "display(mutations)"
   ]
  },
  {
   "cell_type": "code",
   "execution_count": 84,
   "metadata": {},
   "outputs": [
    {
     "data": {
      "text/plain": [
       "Text(0, 0.5, '# mutations')"
      ]
     },
     "execution_count": 84,
     "metadata": {},
     "output_type": "execute_result"
    },
    {
     "data": {
      "image/png": "[encoded data removed]",
      "text/plain": [
       "<Figure size 432x288 with 1 Axes>"
      ]
     },
     "metadata": {
      "needs_background": "light"
     },
     "output_type": "display_data"
    }
   ],
   "source": [
    "fig, ax = plt.subplots()\n",
    "ax.hist(mutations['zeroshot'], bins = 25)\n",
    "ax.set_xlabel('Zeroshot value')\n",
    "ax.set_ylabel('# mutations')"
   ]
  },
  {
   "cell_type": "code",
   "execution_count": 22,
   "metadata": {},
   "outputs": [],
   "source": [
    "# mutations['ref_index'].tolist()"
   ]
  },
  {
   "cell_type": "code",
   "execution_count": 85,
   "metadata": {},
   "outputs": [],
   "source": [
    "X = StandardScaler().fit_transform(mutation_esm1b_reprs[mutations['ref_index'].tolist(),:])"
   ]
  },
  {
   "cell_type": "markdown",
   "metadata": {
    "id": "nlggfGErChr0"
   },
   "source": [
    "# Train a low-dimensional auto-encoder"
   ]
  },
  {
   "cell_type": "markdown",
   "metadata": {},
   "source": [
    "## Params"
   ]
  },
  {
   "cell_type": "code",
   "execution_count": 86,
   "metadata": {},
   "outputs": [],
   "source": [
    "PARAMS = {\n",
    "    'input_dim': 1280,\n",
    "    'intermediate_dim': 128,\n",
    "    'latent_dim': 15,\n",
    "    'kl_weight': 0.1,\n",
    "    'pred_weight': 50,\n",
    "    'batch_size': 512,\n",
    "    'train_size': 0.8,\n",
    "    'n_epochs': 400,\n",
    "    'lr': 1e-03,\n",
    "}"
   ]
  },
  {
   "cell_type": "markdown",
   "metadata": {
    "id": "x71F5_k8CnyP"
   },
   "source": [
    "## Define and train the model"
   ]
  },
  {
   "cell_type": "code",
   "execution_count": 88,
   "metadata": {
    "id": "n7-6t62z7J-n"
   },
   "outputs": [],
   "source": [
    "class VAE(nn.Module):\n",
    "    \n",
    "    def __init__(self, input_dim, intermediate_dim, latent_dim):\n",
    "        \n",
    "        nn.Module.__init__(self)\n",
    "        self.input_dim = input_dim\n",
    "        self.latent_dim = latent_dim\n",
    "        self.intermediate_dim = intermediate_dim\n",
    "\n",
    "        # Encoder\n",
    "        self.input_enc = nn.Linear(in_features = self.input_dim, out_features = self.intermediate_dim)\n",
    "        self.batch_norm_enc = nn.BatchNorm1d(self.intermediate_dim)\n",
    "        self.drop_enc = nn.Dropout(p = 0.05)\n",
    "        self.mu_enc = nn.Linear(in_features = self.intermediate_dim, out_features = self.latent_dim)\n",
    "        self.logvar_enc = nn.Linear(in_features = self.intermediate_dim, out_features = self.latent_dim)\n",
    " \n",
    "        # Decoder \n",
    "        self.latent_dec = nn.Linear(in_features = self.latent_dim, out_features = self.intermediate_dim)\n",
    "        self.batch_norm_dec = nn.BatchNorm1d(self.intermediate_dim)\n",
    "        self.drop_dec = nn.Dropout(p = 0.05)\n",
    "        self.out_dec = nn.Linear(in_features = self.intermediate_dim, out_features = self.input_dim)\n",
    "        self.y_dec = nn.Linear(in_features = self.latent_dim, out_features = 1, bias = False)\n",
    "                \n",
    "    def encode(self, x):\n",
    "        x = self.drop_enc(F.relu(self.batch_norm_enc(self.input_enc(x))))\n",
    "        x_mu = self.mu_enc(x)\n",
    "        x_logvar = self.logvar_enc(x)\n",
    "        return x_mu, x_logvar\n",
    "    \n",
    "    def reparameterize(self, mu, log_var):\n",
    "        std = torch.exp(0.5 * log_var)\n",
    "        r = torch.randn_like(std)\n",
    "        z = mu + r * std\n",
    "        return z\n",
    "    \n",
    "    def decode(self, z):\n",
    "        return self.out_dec(self.drop_dec(F.relu(self.batch_norm_dec(self.latent_dec(z)))))\n",
    "    \n",
    "    def forward(self, x):\n",
    "        mu, log_var = self.encode(x)\n",
    "        z = self.reparameterize(mu, log_var)\n",
    "        x_hat = self.decode(z)\n",
    "        return x_hat, mu, log_var\n",
    "    \n",
    "    def predict(self, x_mu):\n",
    "        return self.y_dec(x_mu)\n",
    "    \n",
    "    def loss_mse(self, x, x_hat):\n",
    "        return F.mse_loss(x_hat, x, reduction = 'sum') / x.shape[0]\n",
    "    \n",
    "    def loss_kld(self, mu, log_var):\n",
    "        # KL divergence between the distribution determined by the encoder (by mu and log_var) and the standard normal\n",
    "        # distribution N(0, 1):\n",
    "        # KL-Divergence = 0.5 * sum(1 + log(sigma^2) - mu^2 - sigma^2)\n",
    "        return -0.5 * torch.sum(1 + log_var - mu.pow(2) - log_var.exp()) / mu.shape[0]\n",
    "    \n",
    "    def loss_pred(self, mu, y):\n",
    "        return F.mse_loss(self.predict(mu), y, reduction = 'sum') / mu.shape[0]"
   ]
  },
  {
   "cell_type": "code",
   "execution_count": 89,
   "metadata": {},
   "outputs": [],
   "source": [
    "class DummyWith:\n",
    "    \n",
    "    def __enter__(self, *args):\n",
    "        pass\n",
    "    \n",
    "    def __exit__(self, *args):\n",
    "        pass\n",
    "\n",
    "def run_model(model, data_loader, fit = True, optimizer = None, labeled = False, kl_weight = 1, pred_weight = 1, \\\n",
    "        device = 'cuda'):\n",
    "    \n",
    "    if fit:\n",
    "        model.train()\n",
    "    else:\n",
    "        model.eval()\n",
    "    \n",
    "    n_batches = 0\n",
    "    total_loss = 0.0\n",
    "    total_loss_mse = 0.0\n",
    "    total_loss_kld = 0.0\n",
    "    total_loss_pred = 0.0\n",
    "    \n",
    "    with (DummyWith() if fit else torch.no_grad()):\n",
    "        for i, batch_data in enumerate(data_loader):\n",
    "\n",
    "            n_batches += 1\n",
    "\n",
    "            if labeled:\n",
    "                x, y = batch_data\n",
    "                x = x.to(device)\n",
    "                y = y.to(device)\n",
    "            else:\n",
    "                x = batch_data\n",
    "                x = x.to(device)\n",
    "                y = None\n",
    "            \n",
    "            if fit:\n",
    "                optimizer.zero_grad()\n",
    "            \n",
    "            x_hat, mu, log_var = model(x)\n",
    "\n",
    "            batch_loss_mse = model.loss_mse(x, x_hat)\n",
    "            total_loss_mse += batch_loss_mse\n",
    "            batch_loss_kld = model.loss_kld(mu, log_var)\n",
    "            total_loss_kld += batch_loss_kld\n",
    "            batch_loss = batch_loss_mse + kl_weight * batch_loss_kld\n",
    "\n",
    "            if labeled:\n",
    "                batch_loss_pred = model.loss_pred(mu, y)\n",
    "                total_loss_pred += batch_loss_pred\n",
    "                batch_loss += pred_weight * batch_loss_pred\n",
    "\n",
    "            total_loss += batch_loss\n",
    "\n",
    "            if fit:\n",
    "                batch_loss.backward()\n",
    "                optimizer.step()\n",
    "        \n",
    "    total_loss /= n_batches\n",
    "    total_loss_mse /= n_batches\n",
    "    total_loss_kld /= n_batches\n",
    "    total_loss_pred /= n_batches\n",
    "    \n",
    "    return total_loss, total_loss_mse, total_loss_kld, total_loss_pred"
   ]
  },
  {
   "cell_type": "code",
   "execution_count": 90,
   "metadata": {},
   "outputs": [
    {
     "name": "stdout",
     "output_type": "stream",
     "text": [
      "# trainable parameters: 3e+05\n",
      "Epoch 0/400: training loss = 5.2e+03 (MSE = 1.4e+03, KLD = 7.1, pred = 77), validation loss = 3.9e+03 (MSE = 1.3e+03, KLD = 26, pred = 53)\n",
      "Epoch 100/400: training loss = 5.1e+02 (MSE = 4.7e+02, KLD = 1.2e+02, pred = 0.62), validation loss = 4.6e+02 (MSE = 4.2e+02, KLD = 1.2e+02, pred = 0.48)\n",
      "Epoch 200/400: training loss = 4.8e+02 (MSE = 4.4e+02, KLD = 1e+02, pred = 0.45), validation loss = 4.2e+02 (MSE = 3.9e+02, KLD = 1e+02, pred = 0.34)))2)\n",
      "Epoch 300/400: training loss = 4.6e+02 (MSE = 4.3e+02, KLD = 93, pred = 0.4), validation loss = 4e+02 (MSE = 3.8e+02, KLD = 94, pred = 0.17))9)31)\n",
      "Done. 390/400: training loss = 4.6e+02 (MSE = 4.3e+02, KLD = 88, pred = 0.43), validation loss = 3.9e+02 (MSE = 3.7e+02, KLD = 88, pred = 0.22)\n"
     ]
    }
   ],
   "source": [
    "y = mutations['zeroshot_raw'].values.reshape(-1, 1)\n",
    "dataset = data_utils.TensorDataset(torch.tensor(X), torch.tensor(y, dtype = torch.float32))\n",
    "train_set, valid_set = train_test_split(dataset, train_size = PARAMS['train_size'])\n",
    "\n",
    "train_loader = data_utils.DataLoader(train_set, batch_size = PARAMS['batch_size'], shuffle = True)\n",
    "valid_loader = data_utils.DataLoader(valid_set, batch_size = PARAMS['batch_size'], shuffle = False)\n",
    "\n",
    "model = VAE(input_dim = PARAMS['input_dim'], intermediate_dim = PARAMS['intermediate_dim'], \\\n",
    "        latent_dim = PARAMS['latent_dim']).to('cuda')\n",
    "n_total_params = sum(p.numel() for p in model.parameters() if p.requires_grad)\n",
    "print('# trainable parameters: %.1g' % n_total_params)\n",
    "\n",
    "optimizer = torch.optim.Adam(model.parameters(), lr = PARAMS['lr'])\n",
    "\n",
    "for epoch in range(PARAMS['n_epochs']):\n",
    "    \n",
    "    train_loss, train_loss_mse, train_loss_kld, train_loss_pred = run_model(model, train_loader, fit = True, \\\n",
    "            optimizer = optimizer, labeled = True, kl_weight = PARAMS['kl_weight'], pred_weight = PARAMS['pred_weight'])\n",
    "    valid_loss, valid_loss_mse, valid_loss_kld, valid_loss_pred = run_model(model, train_loader, fit = False, \\\n",
    "            labeled = True, kl_weight = PARAMS['kl_weight'], pred_weight = PARAMS['pred_weight'])\n",
    "    \n",
    "    if epoch % 10 == 0: \n",
    "        print(('Epoch %d/%d: training loss = %.2g (MSE = %.2g, KLD = %.2g, pred = %.2g), ' + \\\n",
    "                'validation loss = %.2g (MSE = %.2g, KLD = %.2g, pred = %.2g)') % (epoch, PARAMS['n_epochs'], train_loss, \\\n",
    "                train_loss_mse, train_loss_kld, train_loss_pred, valid_loss, valid_loss_mse, valid_loss_kld, \\\n",
    "                valid_loss_pred), end = '\\n' if epoch % 100 == 0 else '\\r')\n",
    "        \n",
    "print('Done.')"
   ]
  },
  {
   "cell_type": "code",
   "execution_count": 91,
   "metadata": {},
   "outputs": [],
   "source": [
    "# os.mkdir(VAE_MODEL_DIR)\n",
    "torch.save(model.state_dict(), os.path.join(VAE_MODEL_DIR,GENE_NAME, GENE_NAME + '_model.pt'))"
   ]
  },
  {
   "cell_type": "markdown",
   "metadata": {},
   "source": [
    "## Calculate the embeddings and distance from WT for all mutations"
   ]
  },
  {
   "cell_type": "code",
   "execution_count": 92,
   "metadata": {},
   "outputs": [
    {
     "name": "stdout",
     "output_type": "stream",
     "text": [
      "(7468, 15)\n"
     ]
    },
    {
     "data": {
      "text/html": [
       "<div>\n",
       "<style scoped>\n",
       "    .dataframe tbody tr th:only-of-type {\n",
       "        vertical-align: middle;\n",
       "    }\n",
       "\n",
       "    .dataframe tbody tr th {\n",
       "        vertical-align: top;\n",
       "    }\n",
       "\n",
       "    .dataframe thead th {\n",
       "        text-align: right;\n",
       "    }\n",
       "</style>\n",
       "<table border=\"1\" class=\"dataframe\">\n",
       "  <thead>\n",
       "    <tr style=\"text-align: right;\">\n",
       "      <th></th>\n",
       "      <th>ref_index</th>\n",
       "      <th>name</th>\n",
       "      <th>pos</th>\n",
       "      <th>alt_aa</th>\n",
       "      <th>zeroshot_raw</th>\n",
       "      <th>zeroshot</th>\n",
       "      <th>dist_from_WT</th>\n",
       "    </tr>\n",
       "  </thead>\n",
       "  <tbody>\n",
       "    <tr>\n",
       "      <th>P53:WT</th>\n",
       "      <td>0</td>\n",
       "      <td>WT</td>\n",
       "      <td>NaN</td>\n",
       "      <td>NaN</td>\n",
       "      <td>0.000000</td>\n",
       "      <td>1.000000</td>\n",
       "      <td>0.000000</td>\n",
       "    </tr>\n",
       "    <tr>\n",
       "      <th>P53:M1V</th>\n",
       "      <td>1</td>\n",
       "      <td>M1V</td>\n",
       "      <td>1.0</td>\n",
       "      <td>V</td>\n",
       "      <td>-6.698508</td>\n",
       "      <td>0.684250</td>\n",
       "      <td>8.983890</td>\n",
       "    </tr>\n",
       "    <tr>\n",
       "      <th>P53:M1Y</th>\n",
       "      <td>2</td>\n",
       "      <td>M1Y</td>\n",
       "      <td>1.0</td>\n",
       "      <td>Y</td>\n",
       "      <td>-8.338982</td>\n",
       "      <td>0.606923</td>\n",
       "      <td>6.689810</td>\n",
       "    </tr>\n",
       "    <tr>\n",
       "      <th>P53:M1P</th>\n",
       "      <td>3</td>\n",
       "      <td>M1P</td>\n",
       "      <td>1.0</td>\n",
       "      <td>P</td>\n",
       "      <td>-5.708129</td>\n",
       "      <td>0.730934</td>\n",
       "      <td>10.365249</td>\n",
       "    </tr>\n",
       "    <tr>\n",
       "      <th>P53:M1D</th>\n",
       "      <td>4</td>\n",
       "      <td>M1D</td>\n",
       "      <td>1.0</td>\n",
       "      <td>D</td>\n",
       "      <td>-7.114252</td>\n",
       "      <td>0.664653</td>\n",
       "      <td>9.827906</td>\n",
       "    </tr>\n",
       "    <tr>\n",
       "      <th>...</th>\n",
       "      <td>...</td>\n",
       "      <td>...</td>\n",
       "      <td>...</td>\n",
       "      <td>...</td>\n",
       "      <td>...</td>\n",
       "      <td>...</td>\n",
       "      <td>...</td>\n",
       "    </tr>\n",
       "    <tr>\n",
       "      <th>P53:D393Q</th>\n",
       "      <td>7463</td>\n",
       "      <td>D393Q</td>\n",
       "      <td>393.0</td>\n",
       "      <td>Q</td>\n",
       "      <td>-5.540351</td>\n",
       "      <td>0.738843</td>\n",
       "      <td>6.894204</td>\n",
       "    </tr>\n",
       "    <tr>\n",
       "      <th>P53:D393F</th>\n",
       "      <td>7464</td>\n",
       "      <td>D393F</td>\n",
       "      <td>393.0</td>\n",
       "      <td>F</td>\n",
       "      <td>-6.265056</td>\n",
       "      <td>0.704682</td>\n",
       "      <td>7.110664</td>\n",
       "    </tr>\n",
       "    <tr>\n",
       "      <th>P53:D393I</th>\n",
       "      <td>7465</td>\n",
       "      <td>D393I</td>\n",
       "      <td>393.0</td>\n",
       "      <td>I</td>\n",
       "      <td>-7.186170</td>\n",
       "      <td>0.661263</td>\n",
       "      <td>7.799786</td>\n",
       "    </tr>\n",
       "    <tr>\n",
       "      <th>P53:D393C</th>\n",
       "      <td>7466</td>\n",
       "      <td>D393C</td>\n",
       "      <td>393.0</td>\n",
       "      <td>C</td>\n",
       "      <td>-5.644102</td>\n",
       "      <td>0.733952</td>\n",
       "      <td>6.310720</td>\n",
       "    </tr>\n",
       "    <tr>\n",
       "      <th>P53:D393W</th>\n",
       "      <td>7467</td>\n",
       "      <td>D393W</td>\n",
       "      <td>393.0</td>\n",
       "      <td>W</td>\n",
       "      <td>-6.705259</td>\n",
       "      <td>0.683932</td>\n",
       "      <td>7.276407</td>\n",
       "    </tr>\n",
       "  </tbody>\n",
       "</table>\n",
       "<p>7468 rows × 7 columns</p>\n",
       "</div>"
      ],
      "text/plain": [
       "           ref_index   name    pos alt_aa  zeroshot_raw  zeroshot  \\\n",
       "P53:WT             0     WT    NaN    NaN      0.000000  1.000000   \n",
       "P53:M1V            1    M1V    1.0      V     -6.698508  0.684250   \n",
       "P53:M1Y            2    M1Y    1.0      Y     -8.338982  0.606923   \n",
       "P53:M1P            3    M1P    1.0      P     -5.708129  0.730934   \n",
       "P53:M1D            4    M1D    1.0      D     -7.114252  0.664653   \n",
       "...              ...    ...    ...    ...           ...       ...   \n",
       "P53:D393Q       7463  D393Q  393.0      Q     -5.540351  0.738843   \n",
       "P53:D393F       7464  D393F  393.0      F     -6.265056  0.704682   \n",
       "P53:D393I       7465  D393I  393.0      I     -7.186170  0.661263   \n",
       "P53:D393C       7466  D393C  393.0      C     -5.644102  0.733952   \n",
       "P53:D393W       7467  D393W  393.0      W     -6.705259  0.683932   \n",
       "\n",
       "           dist_from_WT  \n",
       "P53:WT         0.000000  \n",
       "P53:M1V        8.983890  \n",
       "P53:M1Y        6.689810  \n",
       "P53:M1P       10.365249  \n",
       "P53:M1D        9.827906  \n",
       "...                 ...  \n",
       "P53:D393Q      6.894204  \n",
       "P53:D393F      7.110664  \n",
       "P53:D393I      7.799786  \n",
       "P53:D393C      6.310720  \n",
       "P53:D393W      7.276407  \n",
       "\n",
       "[7468 rows x 7 columns]"
      ]
     },
     "metadata": {},
     "output_type": "display_data"
    }
   ],
   "source": [
    "high_D_dataset_loader = data_utils.DataLoader(torch.tensor(X, dtype = torch.float32), batch_size = PARAMS['batch_size'], \\\n",
    "        shuffle = False)\n",
    "low_D_embeddings = []\n",
    "\n",
    "with torch.no_grad():\n",
    "    for batch in high_D_dataset_loader:\n",
    "        x_mu, _ = model.encode(batch.to(0))\n",
    "        low_D_embeddings.append(x_mu.cpu().numpy())\n",
    "\n",
    "low_D_embeddings = np.vstack(low_D_embeddings)\n",
    "print(low_D_embeddings.shape)\n",
    "\n",
    "assert mutations.iloc[0]['name'] == 'WT'\n",
    "WT_low_D_embeddings = low_D_embeddings[0]\n",
    "mutations['dist_from_WT'] = np.linalg.norm(low_D_embeddings - WT_low_D_embeddings, axis = 1)\n",
    "display(mutations)"
   ]
  },
  {
   "cell_type": "code",
   "execution_count": 93,
   "metadata": {},
   "outputs": [],
   "source": [
    "np.save(os.path.join(REPRESENTATIONS_DIR, GENE_NAME, 'VAE_embeddings.npy'), low_D_embeddings)"
   ]
  },
  {
   "cell_type": "markdown",
   "metadata": {},
   "source": [
    "# Run UMAP"
   ]
  },
  {
   "cell_type": "code",
   "execution_count": 94,
   "metadata": {},
   "outputs": [
    {
     "name": "stdout",
     "output_type": "stream",
     "text": [
      "Done.\n"
     ]
    }
   ],
   "source": [
    "reducer = umap.UMAP(spread = 2, min_dist = 0.1, n_components = 2, random_state = 0)\n",
    "umap_embeddings = reducer.fit_transform(low_D_embeddings)\n",
    "mutations['umap1'] = umap_embeddings[:, 0]\n",
    "mutations['umap2'] = umap_embeddings[:, 1]\n",
    "print('Done.')"
   ]
  },
  {
   "cell_type": "code",
   "execution_count": 95,
   "metadata": {},
   "outputs": [],
   "source": [
    "mutations.to_csv('/data/VariantAnalysis/vae_model/'+GENE_NAME+'/'+ GENE_NAME +'_umap.csv')"
   ]
  },
  {
   "cell_type": "code",
   "execution_count": 96,
   "metadata": {},
   "outputs": [
    {
     "data": {
      "text/html": [
       "<div>\n",
       "<style scoped>\n",
       "    .dataframe tbody tr th:only-of-type {\n",
       "        vertical-align: middle;\n",
       "    }\n",
       "\n",
       "    .dataframe tbody tr th {\n",
       "        vertical-align: top;\n",
       "    }\n",
       "\n",
       "    .dataframe thead th {\n",
       "        text-align: right;\n",
       "    }\n",
       "</style>\n",
       "<table border=\"1\" class=\"dataframe\">\n",
       "  <thead>\n",
       "    <tr style=\"text-align: right;\">\n",
       "      <th></th>\n",
       "      <th>ref_index</th>\n",
       "      <th>pos</th>\n",
       "      <th>zeroshot_raw</th>\n",
       "      <th>zeroshot</th>\n",
       "      <th>dist_from_WT</th>\n",
       "      <th>umap1</th>\n",
       "      <th>umap2</th>\n",
       "    </tr>\n",
       "  </thead>\n",
       "  <tbody>\n",
       "    <tr>\n",
       "      <th>ref_index</th>\n",
       "      <td>1.000000</td>\n",
       "      <td>0.999997</td>\n",
       "      <td>-0.131972</td>\n",
       "      <td>-0.131973</td>\n",
       "      <td>0.155099</td>\n",
       "      <td>0.244758</td>\n",
       "      <td>-0.230535</td>\n",
       "    </tr>\n",
       "    <tr>\n",
       "      <th>pos</th>\n",
       "      <td>0.999997</td>\n",
       "      <td>1.000000</td>\n",
       "      <td>-0.131488</td>\n",
       "      <td>-0.131488</td>\n",
       "      <td>0.154597</td>\n",
       "      <td>0.245176</td>\n",
       "      <td>-0.230342</td>\n",
       "    </tr>\n",
       "    <tr>\n",
       "      <th>zeroshot_raw</th>\n",
       "      <td>-0.131972</td>\n",
       "      <td>-0.131488</td>\n",
       "      <td>1.000000</td>\n",
       "      <td>1.000000</td>\n",
       "      <td>-0.952668</td>\n",
       "      <td>-0.106483</td>\n",
       "      <td>0.812270</td>\n",
       "    </tr>\n",
       "    <tr>\n",
       "      <th>zeroshot</th>\n",
       "      <td>-0.131973</td>\n",
       "      <td>-0.131488</td>\n",
       "      <td>1.000000</td>\n",
       "      <td>1.000000</td>\n",
       "      <td>-0.952668</td>\n",
       "      <td>-0.106483</td>\n",
       "      <td>0.812270</td>\n",
       "    </tr>\n",
       "    <tr>\n",
       "      <th>dist_from_WT</th>\n",
       "      <td>0.155099</td>\n",
       "      <td>0.154597</td>\n",
       "      <td>-0.952668</td>\n",
       "      <td>-0.952668</td>\n",
       "      <td>1.000000</td>\n",
       "      <td>0.075877</td>\n",
       "      <td>-0.755876</td>\n",
       "    </tr>\n",
       "    <tr>\n",
       "      <th>umap1</th>\n",
       "      <td>0.244758</td>\n",
       "      <td>0.245176</td>\n",
       "      <td>-0.106483</td>\n",
       "      <td>-0.106483</td>\n",
       "      <td>0.075877</td>\n",
       "      <td>1.000000</td>\n",
       "      <td>-0.145969</td>\n",
       "    </tr>\n",
       "    <tr>\n",
       "      <th>umap2</th>\n",
       "      <td>-0.230535</td>\n",
       "      <td>-0.230342</td>\n",
       "      <td>0.812270</td>\n",
       "      <td>0.812270</td>\n",
       "      <td>-0.755876</td>\n",
       "      <td>-0.145969</td>\n",
       "      <td>1.000000</td>\n",
       "    </tr>\n",
       "  </tbody>\n",
       "</table>\n",
       "</div>"
      ],
      "text/plain": [
       "              ref_index       pos  zeroshot_raw  zeroshot  dist_from_WT  \\\n",
       "ref_index      1.000000  0.999997     -0.131972 -0.131973      0.155099   \n",
       "pos            0.999997  1.000000     -0.131488 -0.131488      0.154597   \n",
       "zeroshot_raw  -0.131972 -0.131488      1.000000  1.000000     -0.952668   \n",
       "zeroshot      -0.131973 -0.131488      1.000000  1.000000     -0.952668   \n",
       "dist_from_WT   0.155099  0.154597     -0.952668 -0.952668      1.000000   \n",
       "umap1          0.244758  0.245176     -0.106483 -0.106483      0.075877   \n",
       "umap2         -0.230535 -0.230342      0.812270  0.812270     -0.755876   \n",
       "\n",
       "                 umap1     umap2  \n",
       "ref_index     0.244758 -0.230535  \n",
       "pos           0.245176 -0.230342  \n",
       "zeroshot_raw -0.106483  0.812270  \n",
       "zeroshot     -0.106483  0.812270  \n",
       "dist_from_WT  0.075877 -0.755876  \n",
       "umap1         1.000000 -0.145969  \n",
       "umap2        -0.145969  1.000000  "
      ]
     },
     "execution_count": 96,
     "metadata": {},
     "output_type": "execute_result"
    }
   ],
   "source": [
    "mutations.corr(method = 'spearman')"
   ]
  },
  {
   "cell_type": "markdown",
   "metadata": {},
   "source": [
    "# Incorporate ClinVar labels"
   ]
  },
  {
   "cell_type": "markdown",
   "metadata": {},
   "source": [
    "## Download the data from the EVE paper"
   ]
  },
  {
   "cell_type": "code",
   "execution_count": null,
   "metadata": {},
   "outputs": [],
   "source": [
    "!mkdir /data/eve\n",
    "#!wget https://evemodel.org/api/proteins/bulk/download/ -O /data/eve/all_data.zip\n",
    "!aws s3 cp s3://ucsf-genomics-prod-project-data/nadavb/variant_func_project/eve_all_data.zip /data/eve/all_data.zip"
   ]
  },
  {
   "cell_type": "code",
   "execution_count": null,
   "metadata": {},
   "outputs": [],
   "source": [
    "!cd /data/eve/; unzip -q all_data.zip"
   ]
  },
  {
   "cell_type": "code",
   "execution_count": null,
   "metadata": {},
   "outputs": [],
   "source": [
    "!rm -f /data/eve/all_data.zip"
   ]
  },
  {
   "cell_type": "markdown",
   "metadata": {},
   "source": [
    "## Parse and merge the ClinVar annotations"
   ]
  },
  {
   "cell_type": "code",
   "execution_count": null,
   "metadata": {},
   "outputs": [],
   "source": [
    "CLINVAR_LABEL_MAPPING = {\n",
    "    'Pathogenic': 1,\n",
    "    'Likely pathogenic': 1,\n",
    "    'Pathogenic/Likely pathogenic': 1,\n",
    "    'Benign': 0,\n",
    "    'Likely benign': 0,\n",
    "    'Benign/Likely benign': 0,\n",
    "}\n",
    "\n",
    "gene_eve_variants = pd.read_csv('/data/eve/variant_files/%s_HUMAN.csv' % GENE_NAME)\n",
    "gene_eve_variants['clinvar_label'] = gene_eve_variants['ClinVar_ClinicalSignificance'].map(CLINVAR_LABEL_MAPPING)\n",
    "gene_eve_variants = gene_eve_variants[['position', 'mt_aa', 'clinvar_label']].dropna().rename(columns = \\\n",
    "        {'position': 'pos', 'mt_aa': 'alt_aa'})\n",
    "\n",
    "mutations = mutations.merge(gene_eve_variants, how = 'left')\n",
    "display(mutations)"
   ]
  },
  {
   "cell_type": "markdown",
   "metadata": {},
   "source": [
    "## Get clusters from the Ursu et al. paper"
   ]
  },
  {
   "cell_type": "code",
   "execution_count": null,
   "metadata": {},
   "outputs": [],
   "source": [
    "!wget https://www.biorxiv.org/content/biorxiv/early/2020/11/17/2020.11.16.383307/DC2/embed/media-2.xlsx?download=true -O /data/ursu_supp_table2.xlsx"
   ]
  },
  {
   "cell_type": "code",
   "execution_count": null,
   "metadata": {},
   "outputs": [],
   "source": [
    "ursu_variants = pd.read_excel('/data/ursu_supp_table2.xlsx')\n",
    "ursu_variants = ursu_variants.loc[ursu_variants['Mutation type'] == 'Single', ['Variant', 'Variant functional class']]\\\n",
    "        .dropna().rename(columns = {'Variant': 'name', 'Variant functional class': 'ursu_cluster'})\n",
    "mutations = mutations.merge(ursu_variants, how = 'left')\n",
    "display(mutations)"
   ]
  },
  {
   "cell_type": "markdown",
   "metadata": {},
   "source": [
    "# Make UMAP plots"
   ]
  },
  {
   "cell_type": "code",
   "execution_count": null,
   "metadata": {},
   "outputs": [],
   "source": [
    "WT_STYLES = [\n",
    "    dict(c = 'black', s = 200, marker = 's'),\n",
    "    dict(c = 'white', s = 100, marker = 's'),\n",
    "    dict(c = 'green', s = 75, label = 'WT'),\n",
    "]\n",
    "\n",
    "COLOR_SCHEMES = [\n",
    "    # color_field, cmap\n",
    "    ('pos', 'jet'),\n",
    "    ('zeroshot', 'Reds_r'),\n",
    "    ('dist_from_WT', 'Reds'),\n",
    "]\n",
    "\n",
    "(_, WT_mutation), = mutations[mutations['name'] == 'WT'].iterrows()\n",
    "\n",
    "for color_field, cmap in COLOR_SCHEMES:\n",
    "    \n",
    "    fig, ax = plt.subplots(figsize = (12, 8))\n",
    "    ax.set_aspect('equal', 'datalim')\n",
    "    ax.set_title('%s (colored by %s)' % (GENE_NAME, color_field))\n",
    "\n",
    "    relevant_mutations = mutations.dropna(subset = ['zeroshot'])\n",
    "    scatter_plot = ax.scatter(relevant_mutations['umap1'], relevant_mutations['umap2'], \\\n",
    "            c = relevant_mutations[color_field], cmap = cmap, s = 3, alpha = 0.5)\n",
    "    colorbar = fig.colorbar(scatter_plot)\n",
    "    colorbar.set_label(color_field, fontsize = 14)\n",
    "\n",
    "    for wt_style in WT_STYLES:\n",
    "        plt.scatter(WT_mutation['umap1'], WT_mutation['umap2'], **wt_style)\n",
    "\n",
    "    ax.legend(fontsize = 16)"
   ]
  },
  {
   "cell_type": "code",
   "execution_count": null,
   "metadata": {},
   "outputs": [],
   "source": [
    "fig, ax = plt.subplots(figsize = (12, 8))\n",
    "ax.set_title('%s variants (colored by ClinVar annotations)' % GENE_NAME, fontsize = 18)\n",
    "\n",
    "ax.scatter(mutations['umap1'], mutations['umap2'], s = 3, color = '#E5E7E9')\n",
    "ax.scatter(mutations.loc[mutations['clinvar_label'] == 1, 'umap1'], mutations.loc[mutations['clinvar_label'] == 1, \\\n",
    "        'umap2'], s = 5, color = '#CB4335', label = 'Pathogenic')\n",
    "ax.scatter(mutations.loc[mutations['clinvar_label'] == 0, 'umap1'], mutations.loc[mutations['clinvar_label'] == 0, \\\n",
    "        'umap2'], s = 5, color = '#1A5276', label = 'Benign')\n",
    "\n",
    "for wt_style in WT_STYLES:\n",
    "    plt.scatter(WT_mutation['umap1'], WT_mutation['umap2'], **wt_style)\n",
    "\n",
    "ax.legend(fontsize = 16)"
   ]
  },
  {
   "cell_type": "code",
   "execution_count": null,
   "metadata": {},
   "outputs": [],
   "source": [
    "URSU_CLUSTER_TO_COLOR = {\n",
    "    'Neutral': '#000000',\n",
    "    'Semi-neutral': '#1E6151',\n",
    "    'Atypical': '#80648E',\n",
    "    'Semi-neutral gain': '#A68D22',\n",
    "    'Gain-of-function': '#AB1513',\n",
    "}\n",
    "\n",
    "fig, ax = plt.subplots(figsize = (12, 8))\n",
    "ax.set_title('%s variants (colored by Perturb-Seq clusters)' % GENE_NAME, fontsize = 18)\n",
    "\n",
    "ax.scatter(mutations['umap1'], mutations['umap2'], s = 3, color = '#E5E7E9')\n",
    "\n",
    "for cluster, color in URSU_CLUSTER_TO_COLOR.items():\n",
    "    cluster_mutations = mutations[mutations['ursu_cluster'] == cluster]\n",
    "    ax.scatter(cluster_mutations['umap1'], cluster_mutations['umap2'], s = 20, color = color, label = cluster)\n",
    "\n",
    "for wt_style in WT_STYLES:\n",
    "    plt.scatter(WT_mutation['umap1'], WT_mutation['umap2'], **wt_style)\n",
    "\n",
    "ax.legend(fontsize = 16)"
   ]
  }
 ],
 "metadata": {
  "accelerator": "GPU",
  "colab": {
   "machine_shape": "hm",
   "name": "VAEtune-ZeroShot.ipynb",
   "provenance": []
  },
  "kernelspec": {
   "display_name": "VariantEffectVis",
   "language": "python",
   "name": "varianteffectvis"
  },
  "language_info": {
   "codemirror_mode": {
    "name": "ipython",
    "version": 3
   },
   "file_extension": ".py",
   "mimetype": "text/x-python",
   "name": "python",
   "nbconvert_exporter": "python",
   "pygments_lexer": "ipython3",
   "version": "3.9.7"
  }
 },
 "nbformat": 4,
 "nbformat_minor": 4
}
