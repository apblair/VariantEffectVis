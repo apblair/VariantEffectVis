{
 "cells": [
  {
   "cell_type": "code",
   "execution_count": 5,
   "id": "570101c0-179c-47f6-8e88-55a6c79ea92a",
   "metadata": {},
   "outputs": [],
   "source": [
    "import glob\n",
    "import plotly\n",
    "import pandas as pd\n",
    "import plotly.graph_objects as go\n",
    "from plotly.subplots import make_subplots\n",
    "import matplotlib.colors as mcolors\n",
    "import matplotlib.cm as cm\n",
    "import Bio\n",
    "import numpy as np\n",
    "import scanpy as sc\n",
    "from sklearn import preprocessing\n",
    "\n",
    "from Bio.SeqUtils.ProtParam import ProteinAnalysis as PA\n",
    "from Bio.SeqUtils.IsoelectricPoint import IsoelectricPoint as IP"
   ]
  },
  {
   "cell_type": "code",
   "execution_count": 4,
   "id": "cbf1f8c9-d3ef-47b2-a7bb-37f44fa8c470",
   "metadata": {},
   "outputs": [
    {
     "name": "stdout",
     "output_type": "stream",
     "text": [
      "<Managed Device 0>\n"
     ]
    }
   ],
   "source": [
    "from numba import cuda\n",
    "print(cuda.gpus)"
   ]
  },
  {
   "cell_type": "code",
   "execution_count": null,
   "id": "47c8a152-c76f-4fac-9d1b-d02e00dbac4d",
   "metadata": {},
   "outputs": [],
   "source": [
    "llr_dict = {protein.split('/')[-1].split('_')[0]:pd.read_csv(protein, index_col=[0]) for protein in glob.glob('../data/esm1b_preprs/*/*_heatmap_logits.csv')}"
   ]
  }
 ],
 "metadata": {
  "kernelspec": {
   "display_name": "VariantFx",
   "language": "python",
   "name": "variantfx"
  },
  "language_info": {
   "codemirror_mode": {
    "name": "ipython",
    "version": 3
   },
   "file_extension": ".py",
   "mimetype": "text/x-python",
   "name": "python",
   "nbconvert_exporter": "python",
   "pygments_lexer": "ipython3",
   "version": "3.9.7"
  }
 },
 "nbformat": 4,
 "nbformat_minor": 5
}
