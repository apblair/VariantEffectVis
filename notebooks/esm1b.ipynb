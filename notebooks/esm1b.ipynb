{
 "cells": [
  {
   "cell_type": "code",
   "execution_count": 1,
   "id": "b07075b7-6888-481a-93e3-d712859b7112",
   "metadata": {
    "extensions": {
     "jupyter_dashboards": {
      "activeView": "grid_default",
      "views": {
       "grid_default": {
        "col": null,
        "height": 2,
        "hidden": true,
        "row": null,
        "width": 2
       }
      }
     }
    },
    "tags": []
   },
   "outputs": [
    {
     "name": "stdout",
     "output_type": "stream",
     "text": [
      "<Managed Device 0>\n"
     ]
    }
   ],
   "source": [
    "from numba import cuda\n",
    "print(cuda.gpus)"
   ]
  },
  {
   "cell_type": "code",
   "execution_count": 2,
   "id": "2224487a-f709-4c00-83f5-160c72b2b1b1",
   "metadata": {
    "extensions": {
     "jupyter_dashboards": {
      "activeView": "grid_default",
      "views": {
       "grid_default": {
        "col": null,
        "height": 2,
        "hidden": true,
        "row": null,
        "width": 2
       }
      }
     }
    }
   },
   "outputs": [],
   "source": [
    "import os\n",
    "import gzip\n",
    "\n",
    "import numpy as np\n",
    "import pandas as pd\n",
    "import seaborn as sns\n",
    "from IPython.display import display\n",
    "from matplotlib import pyplot as plt"
   ]
  },
  {
   "cell_type": "code",
   "execution_count": 3,
   "id": "36d35c2f-6beb-40e2-b933-d9264a8080aa",
   "metadata": {
    "extensions": {
     "jupyter_dashboards": {
      "activeView": "grid_default",
      "views": {
       "grid_default": {
        "col": null,
        "height": 2,
        "hidden": true,
        "row": null,
        "width": 2
       }
      }
     }
    }
   },
   "outputs": [],
   "source": [
    "import esm\n",
    "import torch\n",
    "from tqdm import tqdm\n",
    "from Bio import SeqIO"
   ]
  },
  {
   "cell_type": "markdown",
   "id": "fc47eaca-963d-4b36-b2b9-2527cedbafc8",
   "metadata": {
    "extensions": {
     "jupyter_dashboards": {
      "activeView": "grid_default",
      "views": {
       "grid_default": {
        "col": null,
        "height": 2,
        "hidden": true,
        "row": null,
        "width": 2
       }
      }
     }
    }
   },
   "source": [
    "# Import Data"
   ]
  },
  {
   "cell_type": "code",
   "execution_count": 4,
   "id": "1e59dfda-b1de-46fe-9843-f9bf7fccce87",
   "metadata": {
    "extensions": {
     "jupyter_dashboards": {
      "activeView": "grid_default",
      "views": {
       "grid_default": {
        "col": null,
        "height": 2,
        "hidden": true,
        "row": null,
        "width": 2
       }
      }
     }
    }
   },
   "outputs": [],
   "source": [
    "DATA_DIR = '/data/VariantAnalysis/'\n",
    "\n",
    "PROTEOME_FASTA_FILE_PATH = os.path.join(DATA_DIR, 'uniprot/human_reviewed.fa.gz')\n",
    "REPRESENTATIONS_DIR = os.path.join(DATA_DIR, 'esm1b_preprs')"
   ]
  },
  {
   "cell_type": "code",
   "execution_count": 30,
   "id": "f9fc55e6-1fc6-4059-bcae-806e025d7845",
   "metadata": {
    "extensions": {
     "jupyter_dashboards": {
      "activeView": "grid_default",
      "views": {
       "grid_default": {
        "col": null,
        "height": 2,
        "hidden": true,
        "row": null,
        "width": 2
       }
      }
     }
    }
   },
   "outputs": [],
   "source": [
    "GENES_OF_INTEREST = ['P53', 'RASK'] #['RASK','PTEN','TPMT','VKOR1','P53', 'ZAP70']  DNSL3 Protein"
   ]
  },
  {
   "cell_type": "markdown",
   "id": "8dca9e89-3c5a-4438-83db-994bd267a4c9",
   "metadata": {
    "extensions": {
     "jupyter_dashboards": {
      "activeView": "grid_default",
      "views": {
       "grid_default": {
        "col": null,
        "height": 2,
        "hidden": true,
        "row": null,
        "width": 2
       }
      }
     }
    }
   },
   "source": [
    "# Load the ESM1b model"
   ]
  },
  {
   "cell_type": "code",
   "execution_count": 7,
   "id": "6a71d41f-524c-4594-8c0e-67d197b1d1f2",
   "metadata": {},
   "outputs": [
    {
     "data": {
      "text/plain": [
       "'/home/ssm-user/.cache/torch/hub'"
      ]
     },
     "execution_count": 7,
     "metadata": {},
     "output_type": "execute_result"
    }
   ],
   "source": [
    "torch.hub.get_dir()"
   ]
  },
  {
   "cell_type": "code",
   "execution_count": 8,
   "id": "be325f05-56af-4ac5-b07f-ce8f2e2865a0",
   "metadata": {},
   "outputs": [],
   "source": [
    "torch.hub.set_dir('/data/.cache/torch/hub/checkpoints/')"
   ]
  },
  {
   "cell_type": "code",
   "execution_count": 10,
   "id": "d3d8a229-a8a3-49a8-9d4a-8c92c94c7339",
   "metadata": {
    "extensions": {
     "jupyter_dashboards": {
      "activeView": "grid_default",
      "views": {
       "grid_default": {
        "col": null,
        "height": 2,
        "hidden": true,
        "row": null,
        "width": 2
       }
      }
     }
    }
   },
   "outputs": [
    {
     "name": "stderr",
     "output_type": "stream",
     "text": [
      "Downloading: \"https://dl.fbaipublicfiles.com/fair-esm/models/esm1b_t33_650M_UR50S.pt\" to /data/.cache/torch/hub/checkpoints/checkpoints/esm1b_t33_650M_UR50S.pt\n",
      "Downloading: \"https://dl.fbaipublicfiles.com/fair-esm/regression/esm1b_t33_650M_UR50S-contact-regression.pt\" to /data/.cache/torch/hub/checkpoints/checkpoints/esm1b_t33_650M_UR50S-contact-regression.pt\n"
     ]
    },
    {
     "name": "stdout",
     "output_type": "stream",
     "text": [
      "Loaded ESM1b.\n"
     ]
    }
   ],
   "source": [
    "model, alphabet = esm.pretrained.esm1b_t33_650M_UR50S()\n",
    "\n",
    "batch_converter = alphabet.get_batch_converter()\n",
    "model.to(0)\n",
    "print('Loaded ESM1b.')"
   ]
  },
  {
   "cell_type": "markdown",
   "id": "f6e3502d-c5b3-4b80-93f6-7635dc869c25",
   "metadata": {
    "extensions": {
     "jupyter_dashboards": {
      "activeView": "grid_default",
      "views": {
       "grid_default": {
        "col": null,
        "height": 2,
        "hidden": true,
        "row": null,
        "width": 2
       }
      }
     }
    }
   },
   "source": [
    "# Protein sequence helper functions"
   ]
  },
  {
   "cell_type": "code",
   "execution_count": 31,
   "id": "3bd57b2e-57bb-4901-a547-875f8b24092e",
   "metadata": {
    "extensions": {
     "jupyter_dashboards": {
      "activeView": "grid_default",
      "views": {
       "grid_default": {
        "col": null,
        "height": 2,
        "hidden": true,
        "row": null,
        "width": 2
       }
      }
     }
    }
   },
   "outputs": [],
   "source": [
    "ALL_AAS = list('ACDEFGHIKLMNPQRSTVWY')\n",
    "ALL_AAS_SET = set(ALL_AAS)\n",
    "\n",
    "def get_wt_mutation(seq, mutation_names_prefix = ''):\n",
    "    return (mutation_names_prefix + 'WT', seq)\n",
    "\n",
    "def get_all_mutations(seq, includeWT = True, mutation_names_prefix = ''):\n",
    "    \n",
    "    seq = str(seq)\n",
    "    all_mutations = []\n",
    "    \n",
    "    if includeWT:\n",
    "        all_mutations.append(get_wt_mutation(seq, mutation_names_prefix = mutation_names_prefix))\n",
    "\n",
    "    for pos in range(len(seq)):\n",
    "        \n",
    "        ref_aa = seq[pos]\n",
    "        alt_aa_options = ALL_AAS_SET - {ref_aa}\n",
    "        \n",
    "        for alt_aa in alt_aa_options:\n",
    "            mutation_name = mutation_names_prefix + ref_aa + str(pos + 1) + alt_aa\n",
    "            mutation_seq = seq[:pos] + alt_aa + seq[(pos + 1):]\n",
    "            all_mutations.append((mutation_name, mutation_seq))\n",
    "\n",
    "    return all_mutations"
   ]
  },
  {
   "cell_type": "markdown",
   "id": "ff498c58-5578-420f-90eb-c8f62867aea7",
   "metadata": {
    "extensions": {
     "jupyter_dashboards": {
      "activeView": "grid_default",
      "views": {
       "grid_default": {
        "col": null,
        "height": 2,
        "hidden": true,
        "row": null,
        "width": 2
       }
      }
     }
    }
   },
   "source": [
    "# Process the UniProt dataset"
   ]
  },
  {
   "cell_type": "code",
   "execution_count": 32,
   "id": "42010b34-ec0a-4790-8eab-a8ea4539912a",
   "metadata": {
    "extensions": {
     "jupyter_dashboards": {
      "activeView": "grid_default",
      "views": {
       "grid_default": {
        "col": null,
        "height": 2,
        "hidden": true,
        "row": null,
        "width": 2
       }
      }
     }
    }
   },
   "outputs": [
    {
     "data": {
      "text/html": [
       "<div>\n",
       "<style scoped>\n",
       "    .dataframe tbody tr th:only-of-type {\n",
       "        vertical-align: middle;\n",
       "    }\n",
       "\n",
       "    .dataframe tbody tr th {\n",
       "        vertical-align: top;\n",
       "    }\n",
       "\n",
       "    .dataframe thead th {\n",
       "        text-align: right;\n",
       "    }\n",
       "</style>\n",
       "<table border=\"1\" class=\"dataframe\">\n",
       "  <thead>\n",
       "    <tr style=\"text-align: right;\">\n",
       "      <th></th>\n",
       "      <th>name</th>\n",
       "      <th>gene</th>\n",
       "      <th>seq</th>\n",
       "    </tr>\n",
       "  </thead>\n",
       "  <tbody>\n",
       "    <tr>\n",
       "      <th>0</th>\n",
       "      <td>sp|P51451|BLK_HUMAN</td>\n",
       "      <td>BLK</td>\n",
       "      <td>MGLVSSKKPDKEKPIKEKDKGQWSPLKVSAQDKDAPPLPPLVVFNH...</td>\n",
       "    </tr>\n",
       "    <tr>\n",
       "      <th>1</th>\n",
       "      <td>sp|A6H8Y1|BDP1_HUMAN</td>\n",
       "      <td>BDP1</td>\n",
       "      <td>MFRRARLSVKPNVRPGVGARGSTASNPQRGRESPRPPDPATDSASK...</td>\n",
       "    </tr>\n",
       "    <tr>\n",
       "      <th>2</th>\n",
       "      <td>sp|O60885|BRD4_HUMAN</td>\n",
       "      <td>BRD4</td>\n",
       "      <td>MSAESGPGTRLRNLPVMGDGLETSQMSTTQAQAQPQPANAASTNPP...</td>\n",
       "    </tr>\n",
       "    <tr>\n",
       "      <th>3</th>\n",
       "      <td>sp|P22223|CADH3_HUMAN</td>\n",
       "      <td>CADH3</td>\n",
       "      <td>MGLPRGPLASLLLLQVCWLQCAASEPCRAVFREAEVTLEAGGAEQE...</td>\n",
       "    </tr>\n",
       "    <tr>\n",
       "      <th>4</th>\n",
       "      <td>sp|Q9BXJ4|C1QT3_HUMAN</td>\n",
       "      <td>C1QT3</td>\n",
       "      <td>MLWRQLIYWQLLALFFLPFCLCQDEYMESPQTGGLPPDCSKCCHGD...</td>\n",
       "    </tr>\n",
       "    <tr>\n",
       "      <th>...</th>\n",
       "      <td>...</td>\n",
       "      <td>...</td>\n",
       "      <td>...</td>\n",
       "    </tr>\n",
       "    <tr>\n",
       "      <th>20372</th>\n",
       "      <td>sp|O00471|EXOC5_HUMAN</td>\n",
       "      <td>EXOC5</td>\n",
       "      <td>MATTAELFEEPFVADEYIERLVWRTPGGGSRGGPEAFDPKRLLEEF...</td>\n",
       "    </tr>\n",
       "    <tr>\n",
       "      <th>20373</th>\n",
       "      <td>sp|Q5JX71|F209A_HUMAN</td>\n",
       "      <td>F209A</td>\n",
       "      <td>MWTLKSSLVLLLCLTCSYAFMFSSLRQKTSEPQGKVQYGEHFRIRQ...</td>\n",
       "    </tr>\n",
       "    <tr>\n",
       "      <th>20374</th>\n",
       "      <td>sp|P15036|ETS2_HUMAN</td>\n",
       "      <td>ETS2</td>\n",
       "      <td>MNDFGIKNMDQVAPVANSYRGTLKRQPAFDTFDGSLFAVFPSLNEE...</td>\n",
       "    </tr>\n",
       "    <tr>\n",
       "      <th>20375</th>\n",
       "      <td>sp|Q5XKK7|F219B_HUMAN</td>\n",
       "      <td>F219B</td>\n",
       "      <td>MATAEPSGRALRLSTPGPRPSGARDRAPGAAGPPSGQIGNRALRLG...</td>\n",
       "    </tr>\n",
       "    <tr>\n",
       "      <th>20376</th>\n",
       "      <td>sp|Q6P179|ERAP2_HUMAN</td>\n",
       "      <td>ERAP2</td>\n",
       "      <td>MFHSSAMVNSHRKPMFNIHRGFYCLTAILPQICICSQFSVPSSYHF...</td>\n",
       "    </tr>\n",
       "  </tbody>\n",
       "</table>\n",
       "<p>20377 rows × 3 columns</p>\n",
       "</div>"
      ],
      "text/plain": [
       "                        name   gene  \\\n",
       "0        sp|P51451|BLK_HUMAN    BLK   \n",
       "1       sp|A6H8Y1|BDP1_HUMAN   BDP1   \n",
       "2       sp|O60885|BRD4_HUMAN   BRD4   \n",
       "3      sp|P22223|CADH3_HUMAN  CADH3   \n",
       "4      sp|Q9BXJ4|C1QT3_HUMAN  C1QT3   \n",
       "...                      ...    ...   \n",
       "20372  sp|O00471|EXOC5_HUMAN  EXOC5   \n",
       "20373  sp|Q5JX71|F209A_HUMAN  F209A   \n",
       "20374   sp|P15036|ETS2_HUMAN   ETS2   \n",
       "20375  sp|Q5XKK7|F219B_HUMAN  F219B   \n",
       "20376  sp|Q6P179|ERAP2_HUMAN  ERAP2   \n",
       "\n",
       "                                                     seq  \n",
       "0      MGLVSSKKPDKEKPIKEKDKGQWSPLKVSAQDKDAPPLPPLVVFNH...  \n",
       "1      MFRRARLSVKPNVRPGVGARGSTASNPQRGRESPRPPDPATDSASK...  \n",
       "2      MSAESGPGTRLRNLPVMGDGLETSQMSTTQAQAQPQPANAASTNPP...  \n",
       "3      MGLPRGPLASLLLLQVCWLQCAASEPCRAVFREAEVTLEAGGAEQE...  \n",
       "4      MLWRQLIYWQLLALFFLPFCLCQDEYMESPQTGGLPPDCSKCCHGD...  \n",
       "...                                                  ...  \n",
       "20372  MATTAELFEEPFVADEYIERLVWRTPGGGSRGGPEAFDPKRLLEEF...  \n",
       "20373  MWTLKSSLVLLLCLTCSYAFMFSSLRQKTSEPQGKVQYGEHFRIRQ...  \n",
       "20374  MNDFGIKNMDQVAPVANSYRGTLKRQPAFDTFDGSLFAVFPSLNEE...  \n",
       "20375  MATAEPSGRALRLSTPGPRPSGARDRAPGAAGPPSGQIGNRALRLG...  \n",
       "20376  MFHSSAMVNSHRKPMFNIHRGFYCLTAILPQICICSQFSVPSSYHF...  \n",
       "\n",
       "[20377 rows x 3 columns]"
      ]
     },
     "metadata": {},
     "output_type": "display_data"
    }
   ],
   "source": [
    "uniprot_records = []\n",
    "\n",
    "with gzip.open(PROTEOME_FASTA_FILE_PATH, 'rt') as f:\n",
    "    for record in SeqIO.parse(f, 'fasta'):\n",
    "        gene_name = record.name.split('|')[-1].split('_')[0]\n",
    "        uniprot_records.append((record.name, gene_name, str(record.seq)))\n",
    "\n",
    "uniprot_records = pd.DataFrame(uniprot_records, columns = ['name', 'gene', 'seq'])\n",
    "display(uniprot_records)\n",
    "\n",
    "gene_name_to_uniprot_records = uniprot_records.groupby('gene')"
   ]
  },
  {
   "cell_type": "code",
   "execution_count": 13,
   "id": "213c4827-fbd0-47a2-ae88-b70427655095",
   "metadata": {
    "extensions": {
     "jupyter_dashboards": {
      "activeView": "grid_default",
      "views": {
       "grid_default": {
        "col": null,
        "height": 2,
        "hidden": true,
        "row": null,
        "width": 2
       }
      }
     }
    }
   },
   "outputs": [
    {
     "data": {
      "text/plain": [
       "['MEEPQSDPSVEPPLSQETFSDLWKLLPENNVLSPLPSQAMDDLMLSPDDIEQWFTEDPGPDEAPRMPEAAPPVAPAPAAPTPAAPAPAPSWPLSSSVPSQKTYQGSYGFRLGFLHSGTAKSVTCTYSPALNKMFCQLAKTCPVQLWVDSTPPPGTRVRAMAIYKQSQHMTEVVRRCPHHERCSDSDGLAPPQHLIRVEGNLRVEYLDDRNTFRHSVVVPYEPPEVGSDCTTIHYNYMCNSSCMGGMNRRPILTIITLEDSSGNLLGRNSFEVRVCACPGRDRRTEEENLRKKGEPHHELPPGSTKRALPNNTSSSPQPKKKPLDGEYFTLQIRGRERFEMFRELNEALELKDAQAGKEPGGSRAHSSHLKSKKGQSTSRHKKLMFKTEGPDSD']"
      ]
     },
     "execution_count": 13,
     "metadata": {},
     "output_type": "execute_result"
    }
   ],
   "source": [
    "uniprot_records[uniprot_records.gene == 'P53']['seq'].tolist()"
   ]
  },
  {
   "cell_type": "code",
   "execution_count": 33,
   "id": "2bafc8e4-f777-4304-b22f-acf68f3fe146",
   "metadata": {
    "extensions": {
     "jupyter_dashboards": {
      "activeView": "grid_default",
      "views": {
       "grid_default": {
        "col": null,
        "height": 2,
        "hidden": true,
        "row": null,
        "width": 2
       }
      }
     }
    }
   },
   "outputs": [
    {
     "data": {
      "text/plain": [
       "Text(0, 0.5, '#records')"
      ]
     },
     "execution_count": 33,
     "metadata": {},
     "output_type": "execute_result"
    },
    {
     "data": {
      "image/png": "[encoded data removed]",
      "text/plain": [
       "<Figure size 432x288 with 1 Axes>"
      ]
     },
     "metadata": {
      "needs_background": "light"
     },
     "output_type": "display_data"
    }
   ],
   "source": [
    "fig, ax = plt.subplots()\n",
    "ax.hist(np.log10(uniprot_records['seq'].str.len()), bins = 50)\n",
    "ax.set_xlabel('Log10 seq lenth (aa)')\n",
    "ax.set_ylabel('#records')"
   ]
  },
  {
   "cell_type": "code",
   "execution_count": 34,
   "id": "ec6e5c89-58e0-4d1f-a38d-1bb386e036f4",
   "metadata": {
    "extensions": {
     "jupyter_dashboards": {
      "activeView": "grid_default",
      "views": {
       "grid_default": {
        "col": null,
        "height": 2,
        "hidden": true,
        "row": null,
        "width": 2
       }
      }
     }
    }
   },
   "outputs": [],
   "source": [
    "genes = []\n",
    "for gene_name in GENES_OF_INTEREST:\n",
    "    (_, gene_uniprot_record), = gene_name_to_uniprot_records.get_group(gene_name).iterrows()\n",
    "    seq = gene_uniprot_record['seq']\n",
    "    genes.append((gene_name, seq))"
   ]
  },
  {
   "cell_type": "code",
   "execution_count": 19,
   "id": "753fc09f-9fcf-4759-8ad7-dd96b2d652d4",
   "metadata": {},
   "outputs": [],
   "source": [
    "# genes = []\n",
    "# seq = \"MPQTVILPGPAPWGFRLSGGIDFNQPLVITRITPGSKAAAANLCPGDVILAIDGFGTESMTHADAQDRIKAAAHQLCLKIDRGETHLWSPQVSEDGKAHPFKINLESEPQDGNYFEHKHNIRPKPFVIPGRSSGCSTPSGIDCGSGRSTPSSVSTVSTICPGDLKVAAKLAPNIPLEMELPGVKIVHAQFNTPMQLYSDDNIMETLQGQVSTALGETPLMSEPTASVPPESDVYRMLHDNRNEPTQPRQSGSFRVLQGMVDDGSDDRPAGTRSVRAPVTKVHGGSGGAQRMPLCDKCGSGIVGAVVKARDKYRHPECFVCADCNLNLKQKGYFFIEGELYCETHARARTKPPEGYDTVTLYPKA\"\n",
    "# genes.append(('PDLIM3', seq))"
   ]
  },
  {
   "cell_type": "markdown",
   "id": "10fee013-6d73-44d7-a528-5ae9c534dda4",
   "metadata": {
    "extensions": {
     "jupyter_dashboards": {
      "activeView": "grid_default",
      "views": {
       "grid_default": {
        "col": null,
        "height": 2,
        "hidden": true,
        "row": null,
        "width": 2
       }
      }
     }
    }
   },
   "source": [
    "# Get WT logits"
   ]
  },
  {
   "cell_type": "code",
   "execution_count": 35,
   "id": "d5d4bff8-f4d8-41ee-bf22-dc5ec03e0b63",
   "metadata": {
    "extensions": {
     "jupyter_dashboards": {
      "activeView": "grid_default",
      "views": {
       "grid_default": {
        "col": null,
        "height": 2,
        "hidden": true,
        "row": null,
        "width": 2
       }
      }
     }
    }
   },
   "outputs": [
    {
     "name": "stdout",
     "output_type": "stream",
     "text": [
      "Done.\n"
     ]
    }
   ],
   "source": [
    "genes_and_wt_logits = []\n",
    "\n",
    "for gene_name, seq in genes:\n",
    "    \n",
    "    mutations = [get_wt_mutation(seq, gene_name)]\n",
    "    _, _, batch_tokens = batch_converter(mutations)\n",
    "    \n",
    "    with torch.no_grad():\n",
    "        wt_logits = torch.log_softmax(model(batch_tokens.to(0), repr_layers = [33], return_contacts = False)['logits'], \\\n",
    "                dim = -1).cpu().numpy()\n",
    "        wt_logits, = wt_logits # There should be only one sequence per batch\n",
    "        \n",
    "    genes_and_wt_logits.append((gene_name, seq, wt_logits))\n",
    "\n",
    "print('Done.')"
   ]
  },
  {
   "cell_type": "code",
   "execution_count": 36,
   "id": "dd5fe326-5c27-4a39-a334-ee4cab863a73",
   "metadata": {
    "extensions": {
     "jupyter_dashboards": {
      "activeView": "grid_default",
      "views": {
       "grid_default": {
        "col": null,
        "height": 2,
        "hidden": true,
        "row": null,
        "width": 2
       }
      }
     }
    }
   },
   "outputs": [
    {
     "data": {
      "image/png": "[encoded data removed]",
      "text/plain": [
       "<Figure size 1800x432 with 2 Axes>"
      ]
     },
     "metadata": {
      "needs_background": "light"
     },
     "output_type": "display_data"
    },
    {
     "data": {
      "image/png": "[encoded data removed]",
      "text/plain": [
       "<Figure size 1800x432 with 2 Axes>"
      ]
     },
     "metadata": {
      "needs_background": "light"
     },
     "output_type": "display_data"
    }
   ],
   "source": [
    "llr_dict = {}\n",
    "for gene_name, seq, wt_logits in genes_and_wt_logits:\n",
    "    \n",
    "    wt_logits = pd.DataFrame(wt_logits[1:-1, :].transpose(), index = alphabet.all_toks, columns = list(seq))\n",
    "    wt_logits.to_csv(os.path.join(REPRESENTATIONS_DIR, '%s_logits.csv' % gene_name))\n",
    "    \n",
    "    wt_ref_logits = np.array([pos_wt_logits[pos_ref_aa] for pos_ref_aa, pos_wt_logits in wt_logits.iteritems()])\n",
    "    LLR = (wt_logits - wt_ref_logits.reshape(1, -1)).loc[ALL_AAS]\n",
    "    llr_dict[gene_name] = LLR\n",
    "    aa_columns = list(LLR)\n",
    "    aa_indices = [index for index in range(1,len(aa_columns)+1)]\n",
    "    LLR.columns = [aa+' '+str(index) for aa,index in zip(aa_columns,aa_indices)]\n",
    "    LLR.to_csv('/data/VariantAnalysis/esm1b_preprs/'+gene_name+'_heatmap_logits.csv')\n",
    "    \n",
    "    fig, ax = plt.subplots(figsize = (25, 6))\n",
    "    sns.heatmap(LLR, ax = ax, cmap = 'viridis_r')\n",
    "    ax.set_title('%s (%d aa)' % (gene_name, len(seq)))"
   ]
  },
  {
   "cell_type": "markdown",
   "id": "be012968-78dd-4ac5-bd87-0ea3184ceb19",
   "metadata": {
    "extensions": {
     "jupyter_dashboards": {
      "activeView": "grid_default",
      "views": {
       "grid_default": {
        "col": null,
        "height": 2,
        "hidden": true,
        "row": null,
        "width": 2
       }
      }
     }
    }
   },
   "source": [
    "# Get representations for all point mutations"
   ]
  },
  {
   "cell_type": "code",
   "execution_count": 37,
   "id": "ae5a99eb-fcfc-47ca-9d4c-ab593a43eccf",
   "metadata": {
    "extensions": {
     "jupyter_dashboards": {
      "activeView": "grid_default",
      "views": {
       "grid_default": {
        "col": null,
        "height": 2,
        "hidden": true,
        "row": null,
        "width": 2
       }
      }
     }
    }
   },
   "outputs": [
    {
     "name": "stdout",
     "output_type": "stream",
     "text": [
      "Overall 11060 mutations.\n"
     ]
    }
   ],
   "source": [
    "all_mutations = []\n",
    "\n",
    "for gene_name, seq in genes:\n",
    "    all_mutations.extend(get_all_mutations(seq, mutation_names_prefix = gene_name + ':'))\n",
    "    \n",
    "print('Overall %d mutations.' % len(all_mutations))"
   ]
  },
  {
   "cell_type": "code",
   "execution_count": 38,
   "id": "e8717999-f8c5-44cd-abef-43775662e48d",
   "metadata": {
    "extensions": {
     "jupyter_dashboards": {
      "activeView": "grid_default",
      "views": {
       "grid_default": {
        "col": null,
        "height": 2,
        "hidden": true,
        "row": null,
        "width": 2
       }
      }
     }
    }
   },
   "outputs": [
    {
     "name": "stderr",
     "output_type": "stream",
     "text": [
      "100%|██████████████████████████████████████████████████████████████████████████████| 173/173 [27:15<00:00,  9.46s/it]"
     ]
    },
    {
     "name": "stdout",
     "output_type": "stream",
     "text": [
      "(11060, 1280)\n"
     ]
    },
    {
     "name": "stderr",
     "output_type": "stream",
     "text": [
      "\n"
     ]
    }
   ],
   "source": [
    "def chunk_list(values, chunk_size):\n",
    "    for i in range(0, len(values), chunk_size):\n",
    "        yield values[i:(i + chunk_size)]\n",
    "\n",
    "batch_size = 64\n",
    "mutation_names = []\n",
    "mutation_reprs = []\n",
    "    \n",
    "for batch in tqdm(chunk_list(all_mutations, batch_size), total = int(np.ceil(len(all_mutations) / batch_size))): \n",
    "\n",
    "    _, _, batch_tokens = batch_converter(batch)\n",
    "    \n",
    "    with torch.no_grad():\n",
    "        \n",
    "        batch_reprs = model(batch_tokens.to(0), repr_layers = [33], return_contacts = False)['representations']\n",
    "\n",
    "        for i, (mutation_name, seq) in enumerate(batch):\n",
    "            mutation_names.append(mutation_name)\n",
    "            mutation_reprs.append(batch_reprs[33][i, 1:(len(seq) + 1)].mean(axis = 0).cpu().numpy())\n",
    "            \n",
    "    del batch_tokens, batch_reprs\n",
    "        \n",
    "mutation_names = np.array(mutation_names)\n",
    "mutation_reprs = np.stack(mutation_reprs)\n",
    "print(mutation_reprs.shape)"
   ]
  },
  {
   "cell_type": "code",
   "execution_count": 39,
   "id": "aeae9b1b-7ff0-40ec-b464-dc4dd578c5d7",
   "metadata": {
    "extensions": {
     "jupyter_dashboards": {
      "activeView": "grid_default",
      "views": {
       "grid_default": {
        "col": null,
        "height": 2,
        "hidden": true,
        "row": null,
        "width": 2
       }
      }
     }
    }
   },
   "outputs": [],
   "source": [
    "for gene_symbol in GENES_OF_INTEREST:\n",
    "    # print(gene_symbol)\n",
    "# gene_symbol, = GENES_OF_INTEREST\n",
    "    save_dir = os.path.join(REPRESENTATIONS_DIR, gene_symbol)\n",
    "    os.mkdir(save_dir)\n",
    "    np.save(os.path.join(save_dir, 'mutation_names.npy'), mutation_names)\n",
    "    np.save(os.path.join(save_dir, 'mutation_reprs.npy'), mutation_reprs)"
   ]
  }
 ],
 "metadata": {
  "extensions": {
   "jupyter_dashboards": {
    "activeView": "grid_default",
    "version": 1,
    "views": {
     "grid_default": {
      "cellMargin": 2,
      "defaultCellHeight": 60,
      "maxColumns": 12,
      "name": "grid",
      "type": "grid"
     }
    }
   }
  },
  "kernelspec": {
   "display_name": "VariantEffectVis",
   "language": "python",
   "name": "varianteffectvis"
  },
  "language_info": {
   "codemirror_mode": {
    "name": "ipython",
    "version": 3
   },
   "file_extension": ".py",
   "mimetype": "text/x-python",
   "name": "python",
   "nbconvert_exporter": "python",
   "pygments_lexer": "ipython3",
   "version": "3.9.7"
  }
 },
 "nbformat": 4,
 "nbformat_minor": 5
}
